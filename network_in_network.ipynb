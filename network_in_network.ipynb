{
  "nbformat": 4,
  "nbformat_minor": 0,
  "metadata": {
    "colab": {
      "name": "network in network.ipynb",
      "provenance": [],
      "authorship_tag": "ABX9TyPieOgQyFqPftwhhmTXin0r",
      "include_colab_link": true
    },
    "kernelspec": {
      "name": "python3",
      "display_name": "Python 3"
    }
  },
  "cells": [
    {
      "cell_type": "markdown",
      "metadata": {
        "id": "view-in-github",
        "colab_type": "text"
      },
      "source": [
        "<a href=\"https://colab.research.google.com/github/moh2236945/CNNs/blob/master/network_in_network.ipynb\" target=\"_parent\"><img src=\"https://colab.research.google.com/assets/colab-badge.svg\" alt=\"Open In Colab\"/></a>"
      ]
    },
    {
      "cell_type": "markdown",
      "metadata": {
        "id": "YJuENi5g6Jwi",
        "colab_type": "text"
      },
      "source": [
        "main Features for NIN:\n",
        "\n",
        "reduce or increase dimensionality\n",
        "\n",
        "applu non linearity again after conv\n",
        "\n",
        "consider as features pooling "
      ]
    },
    {
      "cell_type": "code",
      "metadata": {
        "id": "Fcts6AlZtxMe",
        "colab_type": "code",
        "colab": {
          "base_uri": "https://localhost:8080/",
          "height": 504
        },
        "outputId": "28fbff7d-cd94-4625-ece9-0db1f667f166"
      },
      "source": [
        "import torch\n",
        "import torch.nn as nn\n",
        "import torch.optim as optim\n",
        "import torch.nn.functional as F\n",
        "import torch.utils.data as data\n",
        "\n",
        "from torchvision import datasets\n",
        "from torchvision import transforms\n",
        "\n",
        "import numpy as np\n",
        "import matplotlib.pyplot as plt\n",
        "import math\n",
        "import time\n",
        "import random\n",
        "import copy\n",
        "\n",
        "\n",
        "\n",
        "\n",
        "class NiN(nn.Module):\n",
        "    def __init__(self, output_dim):\n",
        "        super().__init__()\n",
        "        self.output_dim=output_dim\n",
        "        self.classifier = nn.Sequential(\n",
        "            # Block 1\n",
        "            nn.Conv2d(3, 192, kernel_size=5, stride=1, padding=2),\n",
        "            nn.ReLU(inplace=True),\n",
        "            nn.Conv2d(192, 160, kernel_size=1, stride=1, padding=0),\n",
        "            nn.ReLU(inplace=True),\n",
        "            nn.Conv2d(160, 96, kernel_size=1, stride=1, padding=0),\n",
        "            nn.ReLU(inplace=True),\n",
        "            nn.MaxPool2d(kernel_size=3, stride=2, padding=1),\n",
        "            nn.Dropout(0.5),\n",
        "            # Block 2\n",
        "            nn.Conv2d(96, 192, kernel_size=5, stride=1, padding=2),\n",
        "            nn.ReLU(inplace=True),\n",
        "            nn.Conv2d(192, 192, kernel_size=1, stride=1, padding=0),\n",
        "            nn.ReLU(inplace=True),\n",
        "            nn.Conv2d(192, 192, kernel_size=1, stride=1, padding=0),\n",
        "            nn.ReLU(inplace=True),\n",
        "            nn.AvgPool2d(kernel_size=3, stride=2, padding=1),\n",
        "            nn.Dropout(0.5),\n",
        "            # Block 3\n",
        "            nn.Conv2d(192, 192, kernel_size=5, stride=1, padding=2),\n",
        "            nn.ReLU(inplace=True),\n",
        "            nn.Conv2d(192, 192, kernel_size=1, stride=1, padding=0),\n",
        "            nn.ReLU(inplace=True),\n",
        "            nn.Conv2d(192, output_dim, kernel_size=1, stride=1, padding=0),\n",
        "            nn.ReLU(inplace=True),\n",
        "            nn.AvgPool2d(kernel_size=8, stride=1, padding=0),\n",
        "            nn.Dropout(0.5),            \n",
        "        )\n",
        "        \n",
        "    def forward(self, x):\n",
        "        x = self.classifier(x)\n",
        "        x = x.view(x.shape[0], self.output_dim)\n",
        "        prob = torch.softmax(x, dim=1)\n",
        "        return prob\n",
        "\n",
        "\n",
        "\n",
        "def num_params(model):\n",
        "    return sum([params.numel()  for params in model.parameters() if params.requires_grad])\n",
        "\n",
        "OUTPUT_DIM = 196\n",
        "model = NiN(OUTPUT_DIM)\n",
        "def init_weight(m):\n",
        "    if isinstance(m, nn.Conv2d):\n",
        "        nn.init.kaiming_normal_(m.weight.data, nonlinearity = 'relu')\n",
        "        nn.init.constant_(m.bias.data, 0)\n",
        "    elif isinstance(m,nn.Linear):\n",
        "        nn.init.xavier_normal_(m.weight.data, gain=nn.init.calculate_gain('relu'))\n",
        "        nn.init.constant_(m.bias.data, 0)\n",
        "model.apply(init_weight)\n",
        "print(model)\n",
        "print(f\"Number of parameters : {num_params(model):,}\")"
      ],
      "execution_count": 2,
      "outputs": [
        {
          "output_type": "stream",
          "text": [
            "NiN(\n",
            "  (classifier): Sequential(\n",
            "    (0): Conv2d(3, 192, kernel_size=(5, 5), stride=(1, 1), padding=(2, 2))\n",
            "    (1): ReLU(inplace=True)\n",
            "    (2): Conv2d(192, 160, kernel_size=(1, 1), stride=(1, 1))\n",
            "    (3): ReLU(inplace=True)\n",
            "    (4): Conv2d(160, 96, kernel_size=(1, 1), stride=(1, 1))\n",
            "    (5): ReLU(inplace=True)\n",
            "    (6): MaxPool2d(kernel_size=3, stride=2, padding=1, dilation=1, ceil_mode=False)\n",
            "    (7): Dropout(p=0.5, inplace=False)\n",
            "    (8): Conv2d(96, 192, kernel_size=(5, 5), stride=(1, 1), padding=(2, 2))\n",
            "    (9): ReLU(inplace=True)\n",
            "    (10): Conv2d(192, 192, kernel_size=(1, 1), stride=(1, 1))\n",
            "    (11): ReLU(inplace=True)\n",
            "    (12): Conv2d(192, 192, kernel_size=(1, 1), stride=(1, 1))\n",
            "    (13): ReLU(inplace=True)\n",
            "    (14): AvgPool2d(kernel_size=3, stride=2, padding=1)\n",
            "    (15): Dropout(p=0.5, inplace=False)\n",
            "    (16): Conv2d(192, 192, kernel_size=(5, 5), stride=(1, 1), padding=(2, 2))\n",
            "    (17): ReLU(inplace=True)\n",
            "    (18): Conv2d(192, 192, kernel_size=(1, 1), stride=(1, 1))\n",
            "    (19): ReLU(inplace=True)\n",
            "    (20): Conv2d(192, 196, kernel_size=(1, 1), stride=(1, 1))\n",
            "    (21): ReLU(inplace=True)\n",
            "    (22): AvgPool2d(kernel_size=8, stride=1, padding=0)\n",
            "    (23): Dropout(p=0.5, inplace=False)\n",
            "  )\n",
            ")\n",
            "Number of parameters : 1,592,708\n"
          ],
          "name": "stdout"
        }
      ]
    }
  ]
}